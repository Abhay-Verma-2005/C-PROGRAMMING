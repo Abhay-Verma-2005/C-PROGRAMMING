{
 "cells": [
  {
   "cell_type": "code",
   "execution_count": null,
   "id": "0621521b-6c46-4c8e-b479-2e7fadfa8b33",
   "metadata": {},
   "outputs": [],
   "source": [
    "\"\"\" \n",
    "     NAME: ABHAY VERMA\n",
    "     SECTION: AU01\n",
    "     SUBJECT: PYTHON PROGRAMMING\n",
    "     CLG: GLA UNIVERSITY MATHURA\n",
    "\"\"\"\n",
    "# LAB SHEET 1: PYTHON BASICS"
   ]
  },
  {
   "cell_type": "code",
   "execution_count": 2,
   "id": "13bc8d00-0544-43c1-b831-c05193b4fe91",
   "metadata": {},
   "outputs": [
    {
     "name": "stdout",
     "output_type": "stream",
     "text": [
      "hello world Abhay Verma section AU \n",
      "Roll no. 1\n"
     ]
    }
   ],
   "source": [
    "#PROG 1:PRINT USE\n",
    "print(\"hello world\",end=\" \")\n",
    "print(\"Abhay Verma\",end=\" \")\n",
    "print(\"section AU \\nRoll no. 1\")"
   ]
  },
  {
   "cell_type": "code",
   "execution_count": 3,
   "id": "e8662656-0fab-49f7-acc2-2ddf2569e193",
   "metadata": {},
   "outputs": [
    {
     "name": "stdout",
     "output_type": "stream",
     "text": [
      "The sum: 30\n"
     ]
    }
   ],
   "source": [
    "#PROG 2: SUM\n",
    "a=10\n",
    "b=20\n",
    "print(\"The sum:\",a+b)"
   ]
  },
  {
   "cell_type": "code",
   "execution_count": 4,
   "id": "14f9e309-fef0-4532-bf16-8d84c3b41fbb",
   "metadata": {},
   "outputs": [
    {
     "name": "stdout",
     "output_type": "stream",
     "text": [
      "The product: 120\n",
      "The division: 4.8\n",
      "The floor division: 4\n",
      "The remainder: 4\n"
     ]
    }
   ],
   "source": [
    "#PROG 3: MATH OPERATIONS\n",
    "a=24\n",
    "b=5\n",
    "print(\"The sum:\",a+b)\n",
    "print(\"The product:\",a*b)\n",
    "print(\"The division:\",a/b)\n",
    "print(\"The floor division:\",a//b)\n",
    "print(\"The remainder:\",a%b)"
   ]
  },
  {
   "cell_type": "code",
   "execution_count": 21,
   "id": "145213d9-451c-41bc-9b09-54ef75dedde4",
   "metadata": {},
   "outputs": [
    {
     "name": "stdout",
     "output_type": "stream",
     "text": [
      "['False', 'None', 'True', 'and', 'as', 'assert', 'async', 'await', 'break', 'class', 'continue', 'def', 'del', 'elif', 'else', 'except', 'finally', 'for', 'from', 'global', 'if', 'import', 'in', 'is', 'lambda', 'nonlocal', 'not', 'or', 'pass', 'raise', 'return', 'try', 'while', 'with', 'yield']\n"
     ]
    }
   ],
   "source": [
    "#PROG 4: Keyword list\n",
    "import keyword as rev_words\n",
    "print(rev_words.kwlist)"
   ]
  },
  {
   "cell_type": "code",
   "execution_count": 11,
   "id": "66b9db23-8783-4b9a-9ac4-d4fe9d0fcb8c",
   "metadata": {},
   "outputs": [
    {
     "name": "stdout",
     "output_type": "stream",
     "text": [
      "Area of circle : 452.16\n"
     ]
    }
   ],
   "source": [
    "#PROG 5: Area of Circle\n",
    "r=12\n",
    "area=3.14*(r**2)\n",
    "print(\"Area of circle :\",area)"
   ]
  },
  {
   "cell_type": "code",
   "execution_count": 12,
   "id": "d09d4b2d-769f-4f9d-9136-540eb4811d7f",
   "metadata": {},
   "outputs": [
    {
     "name": "stdin",
     "output_type": "stream",
     "text": [
      "Enter the No. O1 : 23\n",
      "Enter the No. O2 : 32\n"
     ]
    },
    {
     "name": "stdout",
     "output_type": "stream",
     "text": [
      "After swap \n",
      "No.1 = 23 and No.2 = 32\n"
     ]
    }
   ],
   "source": [
    "#PROG 6: Swap of two Numbers\n",
    "a=int(input(\"Enter the No. O1 :\"))\n",
    "b=int(input(\"Enter the No. O2 :\"))\n",
    "c=a\n",
    "a=b\n",
    "a=c\n",
    "print(\"After swap \\nNumber.1 =\",a,\"and Number.2 =\",b);"
   ]
  },
  {
   "cell_type": "code",
   "execution_count": null,
   "id": "9fc174a5-41e1-49ee-b298-ae15d2048820",
   "metadata": {},
   "outputs": [],
   "source": [
    "#PROG 7: Greatest number between two\n",
    "a=int(input(\"Enter the No. O1 :\"))\n",
    "b=int(input(\"Enter the No. O2 :\"))"
   ]
  },
  {
   "cell_type": "code",
   "execution_count": 12,
   "id": "c3df597e-9910-4a31-8e21-c4b243a0697e",
   "metadata": {},
   "outputs": [
    {
     "name": "stdin",
     "output_type": "stream",
     "text": [
      "Enter number 454\n"
     ]
    },
    {
     "name": "stdout",
     "output_type": "stream",
     "text": [
      "454 is an Even number\n"
     ]
    }
   ],
   "source": [
    "#PROG 8: Check Even or Odd\n",
    "num=int(input(\"Enter number\"))\n",
    "if(num%2==0):\n",
    "    print(num,\"is an Even number\")\n",
    "else:\n",
    "    print(num,\"is an Odd number\")"
   ]
  },
  {
   "cell_type": "code",
   "execution_count": 13,
   "id": "abf08403-92f6-479e-8924-bbe9b352deae",
   "metadata": {},
   "outputs": [
    {
     "name": "stdin",
     "output_type": "stream",
     "text": [
      "Enter number 444\n"
     ]
    },
    {
     "name": "stdout",
     "output_type": "stream",
     "text": [
      "444 is an Positive\n"
     ]
    }
   ],
   "source": [
    "#PROG 9: Check (Positive, Negative and Zero)\n",
    "num=int(input(\"Enter number\"))\n",
    "if(num>0):\n",
    "    print(num,\"is an Positive\")\n",
    "elif(num==0):\n",
    "    print(num,\"is Zero\")\n",
    "else:\n",
    "    print(num,\"is an Negative\")"
   ]
  },
  {
   "cell_type": "code",
   "execution_count": 1,
   "id": "4bfd4a90-0290-4dfb-90c9-df9918546de8",
   "metadata": {},
   "outputs": [
    {
     "name": "stdin",
     "output_type": "stream",
     "text": [
      "enter number 33\n",
      "Enter divisibility 3\n"
     ]
    },
    {
     "name": "stdout",
     "output_type": "stream",
     "text": [
      "Yes\n"
     ]
    }
   ],
   "source": [
    "#PROG 10: Divisiblity check\n",
    "n=int(input(\"Enter number\"))\n",
    "k=int(input(\"Enter divisibility\"))\n",
    "if(n%k==0):\n",
    "    print(\"Yes\")\n",
    "else:\n",
    "    print(\"No\")"
   ]
  },
  {
   "cell_type": "code",
   "execution_count": 2,
   "id": "acbbc0f0-87c1-460c-afbd-12b6ea04d74a",
   "metadata": {},
   "outputs": [
    {
     "name": "stdin",
     "output_type": "stream",
     "text": [
      "enter number 54\n",
      "Enter last digit 4\n"
     ]
    },
    {
     "name": "stdout",
     "output_type": "stream",
     "text": [
      "last digit is 4\n"
     ]
    }
   ],
   "source": [
    "#PROG 11: Check Last digit\n",
    "n=int(input(\"Enter number\"))\n",
    "k=int(input(\"Enter last digit\"))\n",
    "if(n%10==k):\n",
    "    print(\"Yes! last digit is\",k)\n",
    "else:\n",
    "    print(\"No! last digit is not\",k)"
   ]
  },
  {
   "cell_type": "code",
   "execution_count": 1,
   "id": "fb136925-a0d7-433d-89fc-583aced420bf",
   "metadata": {},
   "outputs": [
    {
     "name": "stdout",
     "output_type": "stream",
     "text": [
      "sorry sorry sorry sorry sorry "
     ]
    }
   ],
   "source": [
    "#PROG 12: \n",
    "i=0\n",
    "while i<5:\n",
    "    print(\"sorry\" ,end=\" \")\n",
    "    i=i+1"
   ]
  },
  {
   "cell_type": "code",
   "execution_count": null,
   "id": "f2346766-400b-45e0-95b9-6d2762aa380b",
   "metadata": {},
   "outputs": [],
   "source": []
  }
 ],
 "metadata": {
  "kernelspec": {
   "display_name": "Python 3 (ipykernel)",
   "language": "python",
   "name": "python3"
  },
  "language_info": {
   "codemirror_mode": {
    "name": "ipython",
    "version": 3
   },
   "file_extension": ".py",
   "mimetype": "text/x-python",
   "name": "python",
   "nbconvert_exporter": "python",
   "pygments_lexer": "ipython3",
   "version": "3.11.4"
  }
 },
 "nbformat": 4,
 "nbformat_minor": 5
}
