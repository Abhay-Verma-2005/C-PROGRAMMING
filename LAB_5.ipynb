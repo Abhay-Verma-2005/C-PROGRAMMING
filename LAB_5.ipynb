{
 "cells": [
  {
   "cell_type": "code",
   "execution_count": 1,
   "id": "1dc4f40b-56d5-4663-a5a0-e4e44130f28c",
   "metadata": {},
   "outputs": [],
   "source": [
    "# LAB SHEET 5: PATTERN SHEET:"
   ]
  },
  {
   "cell_type": "code",
   "execution_count": 2,
   "id": "035d8804-1d40-457f-970c-4f3c6970e7ec",
   "metadata": {},
   "outputs": [
    {
     "name": "stdout",
     "output_type": "stream",
     "text": [
      "Enter N =  4\n"
     ]
    },
    {
     "name": "stdout",
     "output_type": "stream",
     "text": [
      "* * * * \t\n",
      "* * * * \t\n",
      "* * * * \t\n",
      "* * * * \t\n"
     ]
    }
   ],
   "source": [
    "'''PROG 1\n",
    "* * * * *\n",
    "* * * * *\n",
    "* * * * *\n",
    "* * * * * \n",
    "'''\n",
    "n=int(input(\"Enter N = \"))\n",
    "for i in range(n):\n",
    "    for j in range(n):\n",
    "        print('*',end=\" \")\n",
    "    print('\\t')"
   ]
  },
  {
   "cell_type": "code",
   "execution_count": null,
   "id": "221208eb-6a59-40f3-b4d5-32bfc69f1d4d",
   "metadata": {},
   "outputs": [
    {
     "name": "stdout",
     "output_type": "stream",
     "text": [
      "Enter N =  5\n"
     ]
    },
    {
     "name": "stdout",
     "output_type": "stream",
     "text": [
      "\t\n",
      "* \t\n",
      "* * \t\n",
      "* * * \t\n",
      "* * * * \t\n",
      "* * * * * \t\n"
     ]
    }
   ],
   "source": [
    "'''PROG 2\n",
    "Row = 1 2 3 4 \n",
    "Star = 1 2 3 4\n",
    "*\n",
    "* *\n",
    "* * *\n",
    "* * * *\n",
    "* * * * *\n",
    "'''\n",
    "n=int(input(\"Enter N = \"))\n",
    "for i in range(n+1):\n",
    "    for j in range(i):\n",
    "        print('*',end=\" \")\n",
    "    print()"
   ]
  },
  {
   "cell_type": "code",
   "execution_count": null,
   "id": "5ca983a9-6ac7-4bc6-8f38-a18cdd3f8a43",
   "metadata": {},
   "outputs": [
    {
     "name": "stdout",
     "output_type": "stream",
     "text": [
      "Enter N =  5\n"
     ]
    },
    {
     "name": "stdout",
     "output_type": "stream",
     "text": [
      "* * * * * \t\n",
      "* * * * \t\n",
      "* * * \t\n",
      "* * \t\n",
      "* \t\n"
     ]
    }
   ],
   "source": [
    "'''PROG 3\n",
    "Row = 1 2 3 4 \n",
    "Star = 4 3 2 1\n",
    "* * * * *\n",
    "* * * *\n",
    "* * *\n",
    "* *\n",
    "*\n",
    "'''\n",
    "n=int(input(\"Enter N = \"))\n",
    "for i in range(n,0,-1):\n",
    "    for j in range(i):\n",
    "        print('*',end=\" \")\n",
    "    print('\\t')\n",
    "\n",
    "\n",
    "#for i in range(1,n+1):\n",
    "#   for j in range(n+1-i):\n",
    "#        print('*',end=\" \")\n",
    "#    print('\\t')\n"
   ]
  },
  {
   "cell_type": "code",
   "execution_count": null,
   "id": "62be5125-5188-4e57-9a4c-80d74dc57fe0",
   "metadata": {},
   "outputs": [
    {
     "name": "stdout",
     "output_type": "stream",
     "text": [
      "Enter N =  5\n"
     ]
    },
    {
     "name": "stdout",
     "output_type": "stream",
     "text": [
      "\t\n",
      "1 \t\n",
      "1 2 \t\n",
      "1 2 3 \t\n",
      "1 2 3 4 \t\n",
      "1 2 3 4 5 \t\n"
     ]
    }
   ],
   "source": [
    "'''PROG : sample problem\n",
    "1\n",
    "1 2\n",
    "1 2 3\n",
    "1 2 3 4\n",
    "1 2 3 4 5\n",
    "'''\n",
    "n=int(input(\"Enter N = \"))\n",
    "for i in range(n+1):\n",
    "    for j in range(1,i+1):\n",
    "        print(j,end=\" \")\n",
    "    print('\\t')"
   ]
  },
  {
   "cell_type": "code",
   "execution_count": null,
   "id": "5fa8735f-a193-4ca4-9471-e3530c44d7b7",
   "metadata": {},
   "outputs": [
    {
     "name": "stdout",
     "output_type": "stream",
     "text": [
      "Enter N =  5\n"
     ]
    },
    {
     "name": "stdout",
     "output_type": "stream",
     "text": [
      "1 \t\n",
      "1 * \t\n",
      "1 * 3 \t\n",
      "1 * 3 * \t\n",
      "1 * 3 * 5 \t\n"
     ]
    }
   ],
   "source": [
    "'''PROG 4\n",
    "1\n",
    "1 *\n",
    "1 * 3\n",
    "1 * 3 *\n",
    "1 * 3 * 5\n",
    "'''\n",
    "n=int(input(\"Enter N = \"))\n",
    "for i in range(1,n+1):\n",
    "    for j in range(1,i+1):\n",
    "        if j%2 == 0:\n",
    "            print(\"*\",end=\" \")\n",
    "        else:\n",
    "            print(j,end=\" \")\n",
    "    print('\\t')"
   ]
  },
  {
   "cell_type": "code",
   "execution_count": null,
   "id": "70744419-7c75-4dbf-b2c8-6b0e708298c5",
   "metadata": {},
   "outputs": [
    {
     "name": "stdout",
     "output_type": "stream",
     "text": [
      "Enter N =  5\n"
     ]
    },
    {
     "name": "stdout",
     "output_type": "stream",
     "text": [
      "* _ _ _ * \t\n",
      "* _ _ _ * \t\n",
      "* _ _ _ * \t\n",
      "* _ _ _ * \t\n",
      "* _ _ _ * \t\n"
     ]
    }
   ],
   "source": [
    "'''PROG 5\n",
    "*_ _ _*\n",
    "*_ _ _*\n",
    "*_ _ _*\n",
    "*_ _ _*\n",
    "*_ _ _*\n",
    "'''\n",
    "n=int(input(\"Enter N = \"))\n",
    "for i in range(n):\n",
    "    for j in range(n):\n",
    "        if(j==0 or j==n-1):\n",
    "            print('*',end=\" \")\n",
    "        else:\n",
    "            print('_',end=\" \")\n",
    "    print('\\t')\n"
   ]
  },
  {
   "cell_type": "code",
   "execution_count": null,
   "id": "45b239f4-e5b1-4113-9572-c1f1019e13e0",
   "metadata": {},
   "outputs": [
    {
     "name": "stdout",
     "output_type": "stream",
     "text": [
      "Enter N =  5\n"
     ]
    },
    {
     "name": "stdout",
     "output_type": "stream",
     "text": [
      "*_ _ _ _ _ *\t\n",
      "*_ _ _ _ *\t\n",
      "*_ _ _ *\t\n",
      "*_ _ *\t\n",
      "*_ *\t\n"
     ]
    }
   ],
   "source": [
    "'''PROG 6\n",
    "*_ _ _ _ _*\n",
    "*_ _ _ _*\n",
    "*_ _ _*\n",
    "*_ _*\n",
    "*_*\n",
    "'''\n",
    "n=int(input(\"Enter N = \"))\n",
    "for i in range(n+1,1,-1):\n",
    "    for j in range(i+1):\n",
    "        if(j==0 or j==i):\n",
    "            print('*',end=\"\")\n",
    "        else:\n",
    "            print('_',end=\" \")\n",
    "    print('\\t')\n",
    "\n",
    "# n=int(input())\n",
    "# for i in range(n+1):\n",
    "    # print('*',end=\"\")\n",
    "    # for j in range(n+1-i):\n",
    "        # print(\"_\",end=\"\")\n",
    "    # print(\"*\",end=\"\")\n",
    "    # print()\n"
   ]
  },
  {
   "cell_type": "code",
   "execution_count": null,
   "id": "32777611-63c8-4f61-9d45-46d3f6bbda8c",
   "metadata": {},
   "outputs": [
    {
     "name": "stdout",
     "output_type": "stream",
     "text": [
      "Enter N =  5\n"
     ]
    },
    {
     "name": "stdout",
     "output_type": "stream",
     "text": [
      "_ _ _ _ * \t\n",
      "_ _ _ * * \t\n",
      "_ _ * * * \t\n",
      "_ * * * * \t\n",
      "* * * * * \t\n"
     ]
    }
   ],
   "source": [
    "'''PROG 7\n",
    "_ _ _ _ *\n",
    "_ _ _ * *\n",
    "_ _ * * *\n",
    "_ * * * *\n",
    "* * * * *\n",
    "'''\n",
    "n=int(input(\"Enter N = \"))\n",
    "for i in range(1,n+1):\n",
    "    for j in range(n-i):\n",
    "        print('_',end=\" \")\n",
    "    for k in range(i):\n",
    "        print('*',end=\" \")\n",
    "    print('\\t')"
   ]
  },
  {
   "cell_type": "code",
   "execution_count": null,
   "id": "87bf2b66-c8bc-4383-b1c6-fc96634ac90c",
   "metadata": {},
   "outputs": [
    {
     "name": "stdout",
     "output_type": "stream",
     "text": [
      "Enter N =  5\n"
     ]
    },
    {
     "name": "stdout",
     "output_type": "stream",
     "text": [
      "* * * * * \t\n",
      "_ * * * * \t\n",
      "_ _ * * * \t\n",
      "_ _ _ * * \t\n",
      "_ _ _ _ * \t\n"
     ]
    }
   ],
   "source": [
    "'''PROG 8\n",
    "* * * * *\n",
    "_ * * * *\n",
    "_ _ * * *\n",
    "_ _ _ * *\n",
    "_ _ _ _ *\n",
    "'''\n",
    "n=int(input(\"Enter N = \"))\n",
    "for i in range(n,0,-1):\n",
    "    for j in range(n-i):\n",
    "        print('_',end=\" \")\n",
    "    for k in range(i):\n",
    "        print('*',end=\" \")\n",
    "    print('\\t')"
   ]
  },
  {
   "cell_type": "code",
   "execution_count": 4,
   "id": "cee7fdc0-26b1-4e2f-b7ec-080a7c044a3d",
   "metadata": {},
   "outputs": [
    {
     "name": "stdout",
     "output_type": "stream",
     "text": [
      "Enter N =  4\n"
     ]
    },
    {
     "name": "stdout",
     "output_type": "stream",
     "text": [
      "********\n",
      "***  ***\n",
      "**    **\n",
      "*      *\n"
     ]
    }
   ],
   "source": [
    "'''\n",
    "each row=n\n",
    "star=n-i+1\n",
    "space=2i-2\n",
    "star=n-i+1\n",
    "\n",
    "PROG 9\n",
    "**********\n",
    "****  ****\n",
    "***    ***\n",
    "**      **\n",
    "*        *\n",
    "'''\n",
    "n=int(input(\"Enter N = \"))\n",
    "for i in range(1,n+1):\n",
    "    for j in range(n+1-i):\n",
    "        print(\"*\",end='')\n",
    "    for k in range(2*i-2):\n",
    "        print(\" \",end='')\n",
    "    for l in range(n+1-i):\n",
    "        print(\"*\",end='')\n",
    "    print()"
   ]
  },
  {
   "cell_type": "code",
   "execution_count": null,
   "id": "503c03db-465f-4458-84dd-6d06fcaa9cd7",
   "metadata": {},
   "outputs": [
    {
     "name": "stdout",
     "output_type": "stream",
     "text": [
      "Enter N =  7\n"
     ]
    },
    {
     "name": "stdout",
     "output_type": "stream",
     "text": [
      "*            *\n",
      "**          **\n",
      "***        ***\n",
      "****      ****\n",
      "*****    *****\n",
      "******  ******\n",
      "**************\n"
     ]
    }
   ],
   "source": [
    "'''PROG 10\n",
    "*        *\n",
    "**      **\n",
    "***    ***\n",
    "****  ****\n",
    "**********\n",
    "'''\n",
    "n=int(input(\"Enter N = \"))\n",
    "for i in range(1,n+1):\n",
    "    for j in range(i):\n",
    "        print(\"*\",end='')\n",
    "    for j in range(2*n-2*i):\n",
    "        print(\" \",end='')\n",
    "    for j in range(i):\n",
    "        print(\"*\",end='')\n",
    "    print()"
   ]
  },
  {
   "cell_type": "code",
   "execution_count": 4,
   "id": "91124485-f731-44db-95de-bda3d7b74e86",
   "metadata": {},
   "outputs": [
    {
     "name": "stdout",
     "output_type": "stream",
     "text": [
      "Enter N =  6\n"
     ]
    },
    {
     "name": "stdout",
     "output_type": "stream",
     "text": [
      "************\n",
      "*****  *****\n",
      "****    ****\n",
      "***      ***\n",
      "**        **\n",
      "*          *\n",
      "**        **\n",
      "***      ***\n",
      "****    ****\n",
      "*****  *****\n",
      "************\n"
     ]
    }
   ],
   "source": [
    "'''PROG 11\n",
    "**********\n",
    "****  ****\n",
    "***    ***\n",
    "**      **\n",
    "*        *\n",
    "**      **\n",
    "***    ***\n",
    "****  ****\n",
    "**********\n",
    "'''\n",
    "n=int(input(\"Enter N = \"))\n",
    "for i in range(1,n+1):\n",
    "    for j in range(n-i+1):\n",
    "        print(\"*\",end='')\n",
    "    for j in range(2*i-2):\n",
    "        print(\" \",end='')\n",
    "    for j in range(n-i+1):\n",
    "        print(\"*\",end='')\n",
    "    print()\n",
    "for i in range(2,n+1):\n",
    "    for j in range(i):\n",
    "        print(\"*\",end='')\n",
    "    for j in range(2*n-2*i):\n",
    "        print(\" \",end='')\n",
    "    for j in range(i):\n",
    "        print(\"*\",end='')\n",
    "    print()"
   ]
  },
  {
   "cell_type": "code",
   "execution_count": 5,
   "id": "060ee905-8c39-49f6-aab6-140da72ebb52",
   "metadata": {},
   "outputs": [
    {
     "name": "stdout",
     "output_type": "stream",
     "text": [
      "Enter N =  5\n"
     ]
    },
    {
     "name": "stdout",
     "output_type": "stream",
     "text": [
      "\t\n",
      "1 \t\n",
      "1 2 \t\n",
      "1 2 3 \t\n",
      "1 2 3 4 \t\n",
      "1 2 3 4 5 \t\n"
     ]
    }
   ],
   "source": [
    "'''PROG 12:\n",
    "1 \n",
    "1 2\n",
    "1 2 3\n",
    "1 2 3 4\n",
    "'''\n",
    "n=int(input(\"Enter N = \"))\n",
    "for i in range(n+1):\n",
    "    for j in range(1,i+1):\n",
    "        print(j,end=\" \")\n",
    "    print('\\t')"
   ]
  },
  {
   "cell_type": "code",
   "execution_count": null,
   "id": "303ae402-be0b-4ff1-bc39-62066284815f",
   "metadata": {},
   "outputs": [
    {
     "name": "stdout",
     "output_type": "stream",
     "text": [
      "Enter N =  4\n"
     ]
    },
    {
     "name": "stdout",
     "output_type": "stream",
     "text": [
      "1 2 3 4 \t\n",
      "1 2 3 \t\n",
      "1 2 \t\n",
      "1 \t\n"
     ]
    }
   ],
   "source": [
    "'''PROG 13:\n",
    "1 2 3 4\n",
    "1 2 3\n",
    "1 2\n",
    "1\n",
    "'''\n",
    "n=int(input(\"Enter N = \"))\n",
    "for i in range(n,0,-1):\n",
    "    for j in range(1,i+1):\n",
    "        print(j,end=\" \")\n",
    "    print('\\t')"
   ]
  },
  {
   "cell_type": "code",
   "execution_count": null,
   "id": "7ac1b07c-5b67-4b73-9b6b-dfb17bce8e5f",
   "metadata": {},
   "outputs": [
    {
     "name": "stdout",
     "output_type": "stream",
     "text": [
      "Enter N =  4\n"
     ]
    },
    {
     "name": "stdout",
     "output_type": "stream",
     "text": [
      "\t\n",
      "1 \t\n",
      "2 3 \t\n",
      "4 5 6 \t\n",
      "7 8 9 10 \t\n"
     ]
    }
   ],
   "source": [
    "'''PROG 14 : \n",
    "1\n",
    "2 3 \n",
    "4 5 6\n",
    "7 8 9 10\n",
    "'''\n",
    "x=1\n",
    "n=int(input(\"Enter N = \"))\n",
    "for i in range(n+1):\n",
    "    for j in range(1,i+1):\n",
    "        print(x,end=\" \")\n",
    "        x=x+1\n",
    "    print('\\t')\n"
   ]
  },
  {
   "cell_type": "code",
   "execution_count": 5,
   "id": "69e53ad9-abf9-43db-9c5a-3d94f7e74b63",
   "metadata": {},
   "outputs": [
    {
     "name": "stdout",
     "output_type": "stream",
     "text": [
      "Enter N =  5\n"
     ]
    },
    {
     "name": "stdout",
     "output_type": "stream",
     "text": [
      "\t\n",
      "*\t\n",
      "**\t\n",
      "***\t\n",
      "****\t\n",
      "*****\t\n",
      "****\n",
      "***\n",
      "**\n",
      "*\n"
     ]
    }
   ],
   "source": [
    "'''PROG 15\n",
    "*\n",
    "**\n",
    "***\n",
    "****\n",
    "*****\n",
    "****\n",
    "***\n",
    "**\n",
    "*\n",
    "'''\n",
    "n=int(input(\"Enter N = \"))\n",
    "for i in range(n+1):\n",
    "    for j in range(i):\n",
    "        print('*',end=\"\")\n",
    "    print('\\t')\n",
    "for i in range(n-1,0,-1):\n",
    "    for j in range(i):\n",
    "        print('*',end=\"\")\n",
    "    print()"
   ]
  },
  {
   "cell_type": "code",
   "execution_count": 8,
   "id": "ea0b0639-97eb-49ba-b121-cfb9c3717289",
   "metadata": {},
   "outputs": [
    {
     "name": "stdout",
     "output_type": "stream",
     "text": [
      "Enter N =  5\n"
     ]
    },
    {
     "name": "stdout",
     "output_type": "stream",
     "text": [
      "*********\t\n",
      " *     *\t\n",
      "  *   *\t\n",
      "   * *\t\n",
      "    *\t\n"
     ]
    }
   ],
   "source": [
    "'''PROG 16\n",
    "*********\n",
    " *     *\n",
    "  *   *\n",
    "   * *\n",
    "    *\n",
    "'''\n",
    "n = int(input(\"Enter N = \"))\n",
    "for i in range(n, 0, -1):\n",
    "    for j in range(0, n - i):\n",
    "        print(\" \", end=\"\")\n",
    "    for k in range(0, 2 * i - 1):\n",
    "        if k == 0 or k == 2 * i - 2 or i == n:\n",
    "            print(\"*\", end=\"\")\n",
    "        else:\n",
    "            print(\" \", end=\"\")\n",
    "    print('\\t')\n"
   ]
  },
  {
   "cell_type": "code",
   "execution_count": null,
   "id": "1eb1a36e-4db2-4b61-86da-f9e18f48e8f8",
   "metadata": {},
   "outputs": [],
   "source": []
  }
 ],
 "metadata": {
  "kernelspec": {
   "display_name": "Python 3 (ipykernel)",
   "language": "python",
   "name": "python3"
  },
  "language_info": {
   "codemirror_mode": {
    "name": "ipython",
    "version": 3
   },
   "file_extension": ".py",
   "mimetype": "text/x-python",
   "name": "python",
   "nbconvert_exporter": "python",
   "pygments_lexer": "ipython3",
   "version": "3.11.4"
  }
 },
 "nbformat": 4,
 "nbformat_minor": 5
}
