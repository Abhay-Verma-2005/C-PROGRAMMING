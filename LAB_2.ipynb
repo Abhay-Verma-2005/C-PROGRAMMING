{
 "cells": [
  {
   "cell_type": "code",
   "execution_count": 3,
   "id": "9cc94e59-452e-4020-a1a6-04039d320fa6",
   "metadata": {},
   "outputs": [],
   "source": [
    "# LAB SHEET 2: CONDITIONAL STATEMENT:"
   ]
  },
  {
   "cell_type": "code",
   "execution_count": 7,
   "id": "ce1af836-8632-40d4-8ab2-e7946f29f1f2",
   "metadata": {},
   "outputs": [
    {
     "name": "stdout",
     "output_type": "stream",
     "text": [
      "Yes! \n"
     ]
    }
   ],
   "source": [
    "#PROG 1 : DIV BY 7\n",
    "n=int(input(\"Enter number\"))\n",
    "k=7\n",
    "if(n%k==0):\n",
    "    print(\"Yes! \")\n",
    "else:\n",
    "    print(\"No !\")"
   ]
  },
  {
   "cell_type": "code",
   "execution_count": 1,
   "id": "81e53733-f362-497f-8651-2e69f7ccdbc0",
   "metadata": {},
   "outputs": [
    {
     "name": "stdin",
     "output_type": "stream",
     "text": [
      "Enter number 76\n"
     ]
    },
    {
     "name": "stdout",
     "output_type": "stream",
     "text": [
      "No! last digit is not 4\n"
     ]
    }
   ],
   "source": [
    "#PROG 2 : Check Last Digit 4 \n",
    "n=int(input(\"Enter number\"))\n",
    "k=4\n",
    "if(n%10==k):\n",
    "    print(\"Yes! last digit is\",k)\n",
    "else:\n",
    "    print(\"No! last digit is not\",k)"
   ]
  },
  {
   "cell_type": "code",
   "execution_count": 3,
   "id": "7d6e8588-89ab-4b7c-bb55-fe6b49a8ff70",
   "metadata": {},
   "outputs": [
    {
     "name": "stdin",
     "output_type": "stream",
     "text": [
      "Enter number 24\n"
     ]
    },
    {
     "name": "stdout",
     "output_type": "stream",
     "text": [
      "Yes! last digit is 4 and also divisible BY 3\n"
     ]
    }
   ],
   "source": [
    "#PROG 3 : Check Last Digit 4 and divisible by 3\n",
    "n=int(input(\"Enter number\"))\n",
    "if(n%10==4 and n%3==0):\n",
    "    print(\"Yes! last digit is 4 and also divisible BY 3\")\n",
    "else:\n",
    "    print(\"Not satisfied the condition !!!\")"
   ]
  },
  {
   "cell_type": "code",
   "execution_count": 4,
   "id": "97ce85d0-4907-4261-8d98-f393a40eafd6",
   "metadata": {},
   "outputs": [
    {
     "name": "stdin",
     "output_type": "stream",
     "text": [
      "Enter number 70\n"
     ]
    },
    {
     "name": "stdout",
     "output_type": "stream",
     "text": [
      "Yes! satisfied the condition!!!\n"
     ]
    }
   ],
   "source": [
    "#PROG 4 : Check Last Digit 5 or divisible by 7\n",
    "n=int(input(\"Enter number\"))\n",
    "if(n%10==5 or n%7==0):\n",
    "    print(\"Yes! satisfied the condition!!!\")\n",
    "else:\n",
    "    print(\"Not satisfied the condition !!!\")"
   ]
  },
  {
   "cell_type": "code",
   "execution_count": 5,
   "id": "53ae8c27-1b31-40dc-9bd2-a741fda37686",
   "metadata": {},
   "outputs": [
    {
     "name": "stdin",
     "output_type": "stream",
     "text": [
      "Enter number 55\n"
     ]
    },
    {
     "name": "stdout",
     "output_type": "stream",
     "text": [
      "Yes! satisfied both the condition!!!\n"
     ]
    }
   ],
   "source": [
    "#PROG 5 : Check A is divisible by 5 and 11 or Not\n",
    "n=int(input(\"Enter number\"))\n",
    "if(n%5==0 and n%11==0):\n",
    "    print(\"Yes! satisfied both the condition!!!\")\n",
    "elif(n%5==0):\n",
    "    print(\"Yes! A is divisible by 5 !!!\")\n",
    "elif(n%11==0):\n",
    "    print(\"Yes! A is divisible by 11 !!!\")\n",
    "else:\n",
    "    print(\"Not satisfied both the condition !!!\")"
   ]
  },
  {
   "cell_type": "code",
   "execution_count": 6,
   "id": "079bb3b4-48e6-4fc4-9e19-a57995e53fcc",
   "metadata": {},
   "outputs": [
    {
     "name": "stdout",
     "output_type": "stream",
     "text": [
      "No. O3 IS GREATEEST\n"
     ]
    }
   ],
   "source": [
    "#PROG 6: Greatest number among 3\n",
    "a=10\n",
    "b=20\n",
    "c=30\n",
    "if a>=b and a>=c:\n",
    "    print(\"No. O1 IS GREATEST\")\n",
    "elif b>=c:\n",
    "    print(\"No. O2 IS GREATEST\")\n",
    "else:\n",
    "    print(\"No. O3 IS GREATEEST\")"
   ]
  },
  {
   "cell_type": "code",
   "execution_count": 7,
   "id": "bf3c8415-4d3c-44dc-ba48-9dedde4ad064",
   "metadata": {},
   "outputs": [
    {
     "name": "stdin",
     "output_type": "stream",
     "text": [
      "Enter the angles 1 60\n",
      "Enter the angles 2 60\n",
      "Enter the angles 3 60\n"
     ]
    },
    {
     "name": "stdout",
     "output_type": "stream",
     "text": [
      "Acute angled Triangle\n"
     ]
    }
   ],
   "source": [
    "# PROG 7: Check the type of Triangle\n",
    "a=int(input(\"Enter the angles 1\"))\n",
    "b=int(input(\"Enter the angles 2\"))\n",
    "c=int(input(\"Enter the angles 3\"))\n",
    "if (a+b+c == 180):\n",
    "    if(a==90 or b==90 or c==90):\n",
    "        print(\"Right Angled Triangle\")\n",
    "    elif(a>90 or b>90 or c>90):\n",
    "        print(\"Obtuse angled Triangle\")\n",
    "    else:\n",
    "        print(\"Acute angled Triangle\")\n",
    "else:\n",
    "    print(\"It is not a triangle\")"
   ]
  },
  {
   "cell_type": "code",
   "execution_count": 8,
   "id": "e25cf8a0-0e0d-40c4-a2b3-83c60fa33288",
   "metadata": {},
   "outputs": [
    {
     "name": "stdin",
     "output_type": "stream",
     "text": [
      "Enter the Age: 70\n"
     ]
    },
    {
     "name": "stdout",
     "output_type": "stream",
     "text": [
      "Eligibile to VOTE !!!\n"
     ]
    }
   ],
   "source": [
    "#PROG 8: check Eligibilty of age\n",
    "age=int(input('Enter the Age:'))\n",
    "if age>=18:\n",
    "    print(\"Eligibile to VOTE !!!\")\n",
    "\n",
    "else:\n",
    "    print(\"Not Eligibile VOTE !!!\")"
   ]
  },
  {
   "cell_type": "code",
   "execution_count": 10,
   "id": "ad98ec2f-9495-420e-a70b-54557ea70e47",
   "metadata": {},
   "outputs": [
    {
     "name": "stdin",
     "output_type": "stream",
     "text": [
      "Enter the days of year 365\n"
     ]
    },
    {
     "name": "stdout",
     "output_type": "stream",
     "text": [
      "NOt a leap year !!!\n"
     ]
    }
   ],
   "source": [
    "#PROG 9: lEAP YEAR CHECK\n",
    "a=int(input(\"Enter the days of year\"))\n",
    "if a==365:\n",
    "     print(\"NOt a leap year !!!\")\n",
    "\n",
    "elif a==366:\n",
    "    print(\"leap year !!!\")\n",
    "else:\n",
    "    print(\"Incorrect data\")"
   ]
  },
  {
   "cell_type": "code",
   "execution_count": 11,
   "id": "4a0ff897-5791-458b-ab24-a628129dd634",
   "metadata": {},
   "outputs": [
    {
     "name": "stdin",
     "output_type": "stream",
     "text": [
      "Enter the days number (1 to 7) 6\n"
     ]
    },
    {
     "name": "stdout",
     "output_type": "stream",
     "text": [
      "SATURDAY\n"
     ]
    }
   ],
   "source": [
    "#PROG 10: DAY name (1 to 7)\n",
    "a=int(input(\"Enter the days number (1 to 7)\"))\n",
    "if a==1:\n",
    "     print(\"MONDAY\")\n",
    "elif a==2:\n",
    "    print(\"TUESDAY\")\n",
    "elif a==3:\n",
    "    print(\"WEDNESSDAY\")\n",
    "elif a==4:\n",
    "    print(\"THURSDAY\")\n",
    "elif a==5:\n",
    "    print(\"FRIDAY\")\n",
    "elif a==6:\n",
    "    print(\"SATURDAY\")\n",
    "elif a==7:\n",
    "    print(\"SUNDAY\")\n",
    "else:\n",
    "    print(\"Out of range\")"
   ]
  },
  {
   "cell_type": "code",
   "execution_count": null,
   "id": "36fc8df0-0438-4765-872e-6747446b1640",
   "metadata": {},
   "outputs": [
    {
     "name": "stdout",
     "output_type": "stream",
     "text": [
      "Enter the No. O1 : 1\n",
      "Enter the No. O2 : 1\n",
      "Enter the No. O3 : 1\n",
      "Enter the No. O3 : 1\n"
     ]
    }
   ],
   "source": [
    "#PROG 11: AVERAGE OF 5 NUMBER\n",
    "A=int(input(\"Enter the No. O1 :\"))\n",
    "B=int(input(\"Enter the No. O2 :\"))\n",
    "C=int(input(\"Enter the No. O3 :\"))\n",
    "D=int(input(\"Enter the No. O4 :\"))\n",
    "E=int(input(\"Enter the No. O5 :\"))\n",
    "print(\"Average: \",(A+B+C+D+E)/5)"
   ]
  },
  {
   "cell_type": "code",
   "execution_count": 12,
   "id": "a6268b38-cd02-4b7e-b37c-e63391b79ac3",
   "metadata": {},
   "outputs": [
    {
     "name": "stdin",
     "output_type": "stream",
     "text": [
      "Enter the angles 1 80\n",
      "Enter the angles 2 40\n",
      "Enter the angles 3 60\n"
     ]
    },
    {
     "name": "stdout",
     "output_type": "stream",
     "text": [
      "It is a Triangle\n"
     ]
    }
   ],
   "source": [
    "# PROG 12: Check the ANGLES are correct\n",
    "a=int(input(\"Enter the angles 1\"))\n",
    "b=int(input(\"Enter the angles 2\"))\n",
    "c=int(input(\"Enter the angles 3\"))\n",
    "if (a+b+c == 180):\n",
    "    print(\"It is a Triangle\")\n",
    "else:\n",
    "    print(\"It is not a triangle\")"
   ]
  },
  {
   "cell_type": "code",
   "execution_count": 13,
   "id": "5ef1da74-c14f-4699-a0be-13ed2571dc86",
   "metadata": {},
   "outputs": [
    {
     "name": "stdin",
     "output_type": "stream",
     "text": [
      "Enter the No. A : 56\n",
      "Enter the No. B : 65\n"
     ]
    },
    {
     "name": "stdout",
     "output_type": "stream",
     "text": [
      "B is greater\n"
     ]
    }
   ],
   "source": [
    "#PROG 13: Greatest number between two\n",
    "a=int(input(\"Enter the No. A :\"))\n",
    "b=int(input(\"Enter the No. B :\"))\n",
    "if a>b :\n",
    "    print(\"A is greater\")\n",
    "else:\n",
    "    print(\"B is greater\")"
   ]
  },
  {
   "cell_type": "code",
   "execution_count": 15,
   "id": "a4b77ac7-83cd-47d9-b563-39cf223042c5",
   "metadata": {},
   "outputs": [
    {
     "name": "stdin",
     "output_type": "stream",
     "text": [
      "Enter the No. 1 : 77\n",
      "Enter the No. 2 : 659\n",
      "Enter the No. 3 : 0\n"
     ]
    },
    {
     "name": "stdout",
     "output_type": "stream",
     "text": [
      "No. O3 is Smallest\n"
     ]
    }
   ],
   "source": [
    "#PROG 14: Minimum number among 3\n",
    "a=int(input(\"Enter the No. 1 :\"))\n",
    "b=int(input(\"Enter the No. 2 :\"))\n",
    "c=int(input(\"Enter the No. 3 :\"))\n",
    "if a<=b and a<=c:\n",
    "    print(\"No. O1 is Smallest\")\n",
    "elif b<=c:\n",
    "    print(\"No. O2 is Smallest\")\n",
    "else:\n",
    "    print(\"No. O3 is Smallest\")"
   ]
  },
  {
   "cell_type": "code",
   "execution_count": 6,
   "id": "0b52abe1-a1fd-4ff8-b7a5-aa61fe5bcbf4",
   "metadata": {},
   "outputs": [
    {
     "name": "stdout",
     "output_type": "stream",
     "text": [
      "C\n"
     ]
    }
   ],
   "source": [
    "#PROG 15: grades\n",
    "a=int(input(\"Enter the percentages :\"))\n",
    "if a<25:\n",
    "     print(\"D\")\n",
    "elif a>=25 and a<45:\n",
    "    print(\"C\")\n",
    "elif a>=45 and a<65:\n",
    "    print(\"B\")\n",
    "elif a>=65 and a<85:\n",
    "    print(\"A\")\n",
    "elif a>=85 and a<100:\n",
    "    print(\"A+\")\n",
    "else:\n",
    "    print(\"INCORRECT %\")"
   ]
  },
  {
   "cell_type": "code",
   "execution_count": 18,
   "id": "6c75a939-54c4-4070-9c63-b9a99e0ff0a2",
   "metadata": {},
   "outputs": [
    {
     "name": "stdin",
     "output_type": "stream",
     "text": [
      "Enter stop : 10\n"
     ]
    },
    {
     "name": "stdout",
     "output_type": "stream",
     "text": [
      "1 2 3 4 5 6 7 8 9 10 "
     ]
    }
   ],
   "source": [
    "#PROG 16:  count 1 to N\n",
    "i=1\n",
    "n=int(input(\"Enter stop :\"))\n",
    "while i<n+1:\n",
    "    print(i ,end=\" \")\n",
    "    i=i+1"
   ]
  },
  {
   "cell_type": "code",
   "execution_count": 19,
   "id": "05238112-76ec-43ed-aee0-34cdc1a55eb7",
   "metadata": {},
   "outputs": [
    {
     "name": "stdin",
     "output_type": "stream",
     "text": [
      "Enter stop : 10\n"
     ]
    },
    {
     "name": "stdout",
     "output_type": "stream",
     "text": [
      "1 3 5 7 9 "
     ]
    }
   ],
   "source": [
    "#PROG 17: ODD NUMBER LIST\n",
    "i=1\n",
    "n=int(input(\"Enter stop :\"))\n",
    "while i<n+1:\n",
    "    print(i ,end=\" \")\n",
    "    i=i+2"
   ]
  },
  {
   "cell_type": "code",
   "execution_count": 22,
   "id": "20d5ba0a-1eeb-415a-9c44-fb6beddc18fe",
   "metadata": {},
   "outputs": [
    {
     "name": "stdin",
     "output_type": "stream",
     "text": [
      "Enter stop : 60\n"
     ]
    },
    {
     "name": "stdout",
     "output_type": "stream",
     "text": [
      "0 4 8 12 16 20 24 28 32 36 40 44 48 52 56 "
     ]
    }
   ],
   "source": [
    "#PROG 18: Multiple of 4 list\n",
    "i=0\n",
    "n=int(input(\"Enter stop :\")) \n",
    "# we can also use 4*i for n multiple of 4\n",
    "while i<n:\n",
    "    print(i ,end=\" \")\n",
    "    i=i+4"
   ]
  },
  {
   "cell_type": "code",
   "execution_count": 23,
   "id": "50cf95e7-3630-4032-b50f-aecf5817fabf",
   "metadata": {},
   "outputs": [
    {
     "name": "stdin",
     "output_type": "stream",
     "text": [
      "Enter stop Byte value : 7\n"
     ]
    },
    {
     "name": "stdout",
     "output_type": "stream",
     "text": [
      "2 4 8 16 32 64 128 "
     ]
    }
   ],
   "source": [
    "#PROG 19: POWER OF TWOs list\n",
    "i=1\n",
    "n=int(input(\"Enter stop Byte value :\"))\n",
    "while i<n+1:\n",
    "    print(2**i ,end=\" \")\n",
    "    i=i+1"
   ]
  },
  {
   "cell_type": "code",
   "execution_count": 24,
   "id": "342825b5-ef9e-4aec-b52c-e47d08232c2f",
   "metadata": {},
   "outputs": [
    {
     "name": "stdin",
     "output_type": "stream",
     "text": [
      "Enter stop : 7\n"
     ]
    },
    {
     "name": "stdout",
     "output_type": "stream",
     "text": [
      "1 4 9 16 25 36 49 "
     ]
    }
   ],
   "source": [
    "#PROG 20: Squares of n Numbers list\n",
    "i=1\n",
    "n=int(input(\"Enter stop :\"))\n",
    "while i<n+1:\n",
    "    print(i**2 ,end=\" \")\n",
    "    i=i+1"
   ]
  },
  {
   "cell_type": "code",
   "execution_count": null,
   "id": "ccdfe3d3-ab3c-4e6f-a994-0c13a54ef8e6",
   "metadata": {},
   "outputs": [],
   "source": []
  }
 ],
 "metadata": {
  "kernelspec": {
   "display_name": "Python 3 (ipykernel)",
   "language": "python",
   "name": "python3"
  },
  "language_info": {
   "codemirror_mode": {
    "name": "ipython",
    "version": 3
   },
   "file_extension": ".py",
   "mimetype": "text/x-python",
   "name": "python",
   "nbconvert_exporter": "python",
   "pygments_lexer": "ipython3",
   "version": "3.11.4"
  }
 },
 "nbformat": 4,
 "nbformat_minor": 5
}
