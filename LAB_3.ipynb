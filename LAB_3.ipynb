{
 "cells": [
  {
   "cell_type": "code",
   "execution_count": null,
   "id": "5fc30d88-e3b9-4de3-87d0-b285187ea0d6",
   "metadata": {},
   "outputs": [],
   "source": [
    "# LAB SHEET 3: Control Statement (Loops)"
   ]
  },
  {
   "cell_type": "code",
   "execution_count": null,
   "id": "7ea1c9cb-ea9a-4d3c-a126-17d24039c6c6",
   "metadata": {},
   "outputs": [],
   "source": [
    "#PROG 1:\n",
    "'''Write a program that takes a positive integer N as input from the user and prints all natural\n",
    "numbers from 1 to N, with each number followed by a space.'''\n",
    "i=1\n",
    "n=int(input(\"N = \"))\n",
    "while i<=n:\n",
    "    print(i ,end=\" \")\n",
    "    i=i+1"
   ]
  },
  {
   "cell_type": "code",
   "execution_count": 3,
   "id": "b5f90dce-9131-45a9-9e3a-cbb72556cc05",
   "metadata": {},
   "outputs": [
    {
     "name": "stdin",
     "output_type": "stream",
     "text": [
      "N =  5\n"
     ]
    },
    {
     "name": "stdout",
     "output_type": "stream",
     "text": [
      "5 4 3 2 1 "
     ]
    }
   ],
   "source": [
    "#PROG 2:\n",
    "'''Write a program to print all Natural numbers from N to 1 where you have to take N as input\n",
    "from user.'''\n",
    "i=1\n",
    "n=int(input(\"N = \"))\n",
    "while i<=n:\n",
    "    print(n ,end=\" \")\n",
    "    n=n-1"
   ]
  },
  {
   "cell_type": "code",
   "execution_count": 7,
   "id": "3135bd97-741e-4b75-acda-11a601d8da63",
   "metadata": {},
   "outputs": [
    {
     "name": "stdin",
     "output_type": "stream",
     "text": [
      "N =  10\n"
     ]
    },
    {
     "name": "stdout",
     "output_type": "stream",
     "text": [
      "2 4 6 8 10 "
     ]
    }
   ],
   "source": [
    "#PROG 3:\n",
    "'''Write a program to print all even numbers from 1 to N where you have to take N as input from\n",
    "the user.'''\n",
    "i=2\n",
    "n=int(input(\"N = \"))\n",
    "while i<=n:\n",
    "    print(i ,end=\" \")\n",
    "    i=i+2"
   ]
  },
  {
   "cell_type": "code",
   "execution_count": 4,
   "id": "23163d5b-7632-47e6-a0fc-6e9fea7a8172",
   "metadata": {},
   "outputs": [
    {
     "name": "stdin",
     "output_type": "stream",
     "text": [
      "N =  10\n"
     ]
    },
    {
     "name": "stdout",
     "output_type": "stream",
     "text": [
      "1 3 5 7 9 "
     ]
    }
   ],
   "source": [
    "#PROG 4:\n",
    "'''Write a program to print all odd numbers from 1 to N where you have to take N as input from\n",
    "user.'''\n",
    "i=1\n",
    "n=int(input(\"N = \"))\n",
    "while i<=n:\n",
    "    print(i ,end=\" \")\n",
    "    i=i+2"
   ]
  },
  {
   "cell_type": "code",
   "execution_count": 10,
   "id": "7b05106b-705f-4216-b198-ec2453083034",
   "metadata": {},
   "outputs": [
    {
     "name": "stdin",
     "output_type": "stream",
     "text": [
      "N =  10\n"
     ]
    },
    {
     "name": "stdout",
     "output_type": "stream",
     "text": [
      "sum :  55\n"
     ]
    }
   ],
   "source": [
    "#PROG 5:\n",
    "'''Write a program to find sum all Natural numbers from 1 to N where you have to take N as\n",
    "input from user.'''\n",
    "i=1\n",
    "sum=0\n",
    "n=int(input(\"N = \"))\n",
    "while i<=n:\n",
    "    sum=sum+i\n",
    "    i=i+1\n",
    "print(\"sum : \",sum)"
   ]
  },
  {
   "cell_type": "code",
   "execution_count": 15,
   "id": "5f35e713-3e1a-474f-b22c-bafdee6dfc76",
   "metadata": {},
   "outputs": [
    {
     "name": "stdin",
     "output_type": "stream",
     "text": [
      "N =  10\n"
     ]
    },
    {
     "name": "stdout",
     "output_type": "stream",
     "text": [
      "sum :  30\n"
     ]
    }
   ],
   "source": [
    "#PROG 6:\n",
    "'''You are given an integer A, you need to find and return the sum of all the even numbers\n",
    "between 1 and A. Even numbers are those numbers that are divisible by 2.'''\n",
    "i=0\n",
    "sum=0\n",
    "n=int(input(\"N = \"))\n",
    "while i<=n:\n",
    "    sum=sum+i\n",
    "    i=i+2\n",
    "print(\"sum of even : \",sum)"
   ]
  },
  {
   "cell_type": "code",
   "execution_count": 8,
   "id": "f6c2872b-f28b-44f8-9753-c7d8eb1c5e79",
   "metadata": {},
   "outputs": [
    {
     "name": "stdin",
     "output_type": "stream",
     "text": [
      "N =  10\n"
     ]
    },
    {
     "name": "stdout",
     "output_type": "stream",
     "text": [
      "sum of odd :  25\n"
     ]
    }
   ],
   "source": [
    "#PROG 7:\n",
    "'''Take an integer A as input. You have to print the sum of all odd numbers in the range [1, A].'''\n",
    "i=1\n",
    "sum=0\n",
    "n=int(input(\"N = \"))\n",
    "while i<=n:\n",
    "    sum=sum+i\n",
    "    i=i+2\n",
    "print(\"sum of odd : \",sum)"
   ]
  },
  {
   "cell_type": "code",
   "execution_count": 9,
   "id": "8096b621-bb6e-4c16-be3b-775ae17b6f99",
   "metadata": {},
   "outputs": [
    {
     "name": "stdin",
     "output_type": "stream",
     "text": [
      "Enter the Number: 10\n"
     ]
    },
    {
     "name": "stdout",
     "output_type": "stream",
     "text": [
      "Digits :  2\n"
     ]
    }
   ],
   "source": [
    "#PROG 8:\n",
    "'''Take integer N as input and Print the count of digits of that number.'''\n",
    "n=int(input(\"Enter the Number:\"))\n",
    "count=0\n",
    "while n>0:\n",
    "    n=n//10\n",
    "    count+=1\n",
    "print(\"Digits : \",count)"
   ]
  },
  {
   "cell_type": "code",
   "execution_count": 10,
   "id": "0d389d3f-d38c-48a8-a853-040fda0c9cec",
   "metadata": {},
   "outputs": [
    {
     "name": "stdin",
     "output_type": "stream",
     "text": [
      "Enter the Number: 111222\n"
     ]
    },
    {
     "name": "stdout",
     "output_type": "stream",
     "text": [
      "Sum of Digits :  9\n"
     ]
    }
   ],
   "source": [
    "#PROG 9:\n",
    "'''Take integers N as input. Your task is to calculate and print the sum of the digits of the given\n",
    "number N'''\n",
    "n=int(input(\"Enter the Number:\"))\n",
    "sum=0\n",
    "while n>0:\n",
    "    r=n%10\n",
    "    n=n//10\n",
    "    sum=sum+r\n",
    "print(\"Sum of Digits : \",sum)"
   ]
  },
  {
   "cell_type": "code",
   "execution_count": 19,
   "id": "13d5c254-0c41-4469-8ed4-23608ea3f831",
   "metadata": {},
   "outputs": [
    {
     "name": "stdin",
     "output_type": "stream",
     "text": [
      "Enter the Number: 1221\n"
     ]
    },
    {
     "name": "stdout",
     "output_type": "stream",
     "text": [
      "Yes\n"
     ]
    }
   ],
   "source": [
    "#PROG 10:\n",
    "'''You are given an integer A as input and you need to determine whether it is a palindrome or\n",
    "not.A palindrome integer is one whose digits, when reversed, result in the same number.\n",
    "For example, 121 is a palindrome because its reverse is also 121, but 123 is not a palindrome\n",
    "because its reverse is 321.Note: The given integer will not have any leading zeros.'''\n",
    "A=int(input(\"Enter the Number:\"))\n",
    "org=A\n",
    "palin=0\n",
    "while A>0:\n",
    "    r=A%10\n",
    "    A=A//10\n",
    "    palin=palin*10+r\n",
    "if org==palin:\n",
    "    print(\"Yes\")\n",
    "else:\n",
    "    print(\"No\") "
   ]
  },
  {
   "cell_type": "code",
   "execution_count": 8,
   "id": "614da4c2-7012-426b-bd8c-47957ad6ceaa",
   "metadata": {},
   "outputs": [
    {
     "name": "stdin",
     "output_type": "stream",
     "text": [
      "Enter the number : 5\n"
     ]
    },
    {
     "name": "stdout",
     "output_type": "stream",
     "text": [
      "5 x 1 = 5\n",
      "5 x 2 = 10\n",
      "5 x 3 = 15\n",
      "5 x 4 = 20\n",
      "5 x 5 = 25\n",
      "5 x 6 = 30\n",
      "5 x 7 = 35\n",
      "5 x 8 = 40\n",
      "5 x 9 = 45\n",
      "5 x 10 = 50\n"
     ]
    }
   ],
   "source": [
    "#PROG 11:\n",
    "'''Take a number A as input, print its multiplication table having the first 10 multiples.'''\n",
    "A=int(input(\"Enter the number :\"))\n",
    "i=1\n",
    "while i<=10:\n",
    "    print(A,'x',i,'=',A*i)\n",
    "    i=i+1\n"
   ]
  },
  {
   "cell_type": "code",
   "execution_count": 9,
   "id": "046a1ac7-72c4-49f5-96a2-00506877095e",
   "metadata": {},
   "outputs": [
    {
     "name": "stdin",
     "output_type": "stream",
     "text": [
      "Enter A:  4\n",
      "Enter B:  2\n"
     ]
    },
    {
     "data": {
      "text/plain": [
       "16"
      ]
     },
     "execution_count": 9,
     "metadata": {},
     "output_type": "execute_result"
    }
   ],
   "source": [
    "#PROG 12:\n",
    "'''You are given two integers A and B. You have to find the value of A^B.'''\n",
    "def power():\n",
    "    A=int(input(\"Enter A: \"))\n",
    "    B=int(input(\"Enter B: \"))\n",
    "    p=A**B\n",
    "    return p\n",
    "power()"
   ]
  },
  {
   "cell_type": "code",
   "execution_count": null,
   "id": "7953f3a2-a992-4298-8152-9f79d73bf2dd",
   "metadata": {},
   "outputs": [],
   "source": []
  }
 ],
 "metadata": {
  "kernelspec": {
   "display_name": "Python 3 (ipykernel)",
   "language": "python",
   "name": "python3"
  },
  "language_info": {
   "codemirror_mode": {
    "name": "ipython",
    "version": 3
   },
   "file_extension": ".py",
   "mimetype": "text/x-python",
   "name": "python",
   "nbconvert_exporter": "python",
   "pygments_lexer": "ipython3",
   "version": "3.11.4"
  }
 },
 "nbformat": 4,
 "nbformat_minor": 5
}
