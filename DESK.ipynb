{
 "cells": [
  {
   "cell_type": "code",
   "execution_count": 1,
   "id": "3c3f2743-f4e1-42c7-a021-46b0febcfce5",
   "metadata": {},
   "outputs": [
    {
     "name": "stdout",
     "output_type": "stream",
     "text": [
      "x is : 9\n",
      "y is : 4\n",
      "z is : 13\n"
     ]
    }
   ],
   "source": [
    "x=5\n",
    "y=4\n",
    "x=x+y\n",
    "z=x+y\n",
    "print(\"x is :\",x)\n",
    "print(\"y is :\",y)\n",
    "print(\"z is :\",z)"
   ]
  },
  {
   "cell_type": "code",
   "execution_count": 43,
   "id": "b93a0193-4aaa-4814-b030-d15b998d8128",
   "metadata": {},
   "outputs": [
    {
     "name": "stdout",
     "output_type": "stream",
     "text": [
      "140707313083848\n",
      "140707313083816\n"
     ]
    }
   ],
   "source": [
    "x=22\n",
    "print(id(x))  #memory location\n",
    "y=21\n",
    "print(id(y))"
   ]
  },
  {
   "cell_type": "code",
   "execution_count": 44,
   "id": "a68596b2-32f9-4c82-ab8d-ea11289519e3",
   "metadata": {},
   "outputs": [
    {
     "name": "stdout",
     "output_type": "stream",
     "text": [
      "<class 'int'>\n",
      "<class 'str'>\n"
     ]
    }
   ],
   "source": [
    "#datatypes\n",
    "x=10\n",
    "y='ABC'\n",
    "print(type(x))\n",
    "print(type(y))"
   ]
  },
  {
   "cell_type": "code",
   "execution_count": 81,
   "id": "da2520b1-bc46-4f56-9785-4d8d8014b12e",
   "metadata": {},
   "outputs": [
    {
     "name": "stdout",
     "output_type": "stream",
     "text": [
      "True\n",
      "False\n"
     ]
    },
    {
     "data": {
      "text/plain": [
       "bool"
      ]
     },
     "execution_count": 81,
     "metadata": {},
     "output_type": "execute_result"
    }
   ],
   "source": [
    "x=(6 > 3)\n",
    "print(x)\n",
    "print(-1 > 1)\n",
    "type(x)"
   ]
  },
  {
   "cell_type": "code",
   "execution_count": 91,
   "id": "231caf87-6c5b-4574-976c-71fc567041f9",
   "metadata": {},
   "outputs": [
    {
     "name": "stdout",
     "output_type": "stream",
     "text": [
      "2.0 5.0\n"
     ]
    },
    {
     "data": {
      "text/plain": [
       "complex"
      ]
     },
     "execution_count": 91,
     "metadata": {},
     "output_type": "execute_result"
    }
   ],
   "source": [
    "x = 2 + 5j\n",
    "print(x.real, x.imag)\n",
    "type(x)\n"
   ]
  },
  {
   "cell_type": "code",
   "execution_count": 92,
   "id": "9f432d5d-cc49-47aa-aed6-59b6b7640873",
   "metadata": {},
   "outputs": [
    {
     "data": {
      "text/plain": [
       "'hello world'"
      ]
     },
     "execution_count": 92,
     "metadata": {},
     "output_type": "execute_result"
    }
   ],
   "source": [
    "str1=\"hello world\"\n",
    "str1"
   ]
  },
  {
   "cell_type": "code",
   "execution_count": 93,
   "id": "e2325d99-2c69-4936-8c72-9ef96a6512cc",
   "metadata": {},
   "outputs": [
    {
     "data": {
      "text/plain": [
       "'this is a baby string'"
      ]
     },
     "execution_count": 93,
     "metadata": {},
     "output_type": "execute_result"
    }
   ],
   "source": [
    "a='this is a baby string'\n",
    "a"
   ]
  },
  {
   "cell_type": "code",
   "execution_count": 94,
   "id": "2b63b9d9-4bab-4241-bdf7-44c0d78608d1",
   "metadata": {},
   "outputs": [
    {
     "name": "stdout",
     "output_type": "stream",
     "text": [
      "10 20 30\n",
      "60\n",
      "10 10 10\n"
     ]
    }
   ],
   "source": [
    "x,y,z=10,20,30\n",
    "print(x,y,z)\n",
    "print(x+y+z)\n",
    "a=b=c=10\n",
    "print(a,b,c)"
   ]
  },
  {
   "cell_type": "code",
   "execution_count": 95,
   "id": "1324ebf8-0229-47cd-bedf-8465a99376df",
   "metadata": {},
   "outputs": [
    {
     "name": "stdin",
     "output_type": "stream",
     "text": [
      "Enter the time in minutes 70\n"
     ]
    },
    {
     "name": "stdout",
     "output_type": "stream",
     "text": [
      "hour: 1\n",
      "min: 10\n"
     ]
    }
   ],
   "source": [
    "t=int(input(\"Enter the time in minutes\"))\n",
    "h=t//60\n",
    "min=t%60\n",
    "print('hour:',h)\n",
    "print('min:',min)"
   ]
  },
  {
   "cell_type": "code",
   "execution_count": 1,
   "id": "48ef31f9-ffc7-46e0-8269-ea8f31712f76",
   "metadata": {},
   "outputs": [
    {
     "name": "stdout",
     "output_type": "stream",
     "text": [
      "['False', 'None', 'True', 'and', 'as', 'assert', 'async', 'await', 'break', 'class', 'continue', 'def', 'del', 'elif', 'else', 'except', 'finally', 'for', 'from', 'global', 'if', 'import', 'in', 'is', 'lambda', 'nonlocal', 'not', 'or', 'pass', 'raise', 'return', 'try', 'while', 'with', 'yield']\n"
     ]
    },
    {
     "data": {
      "text/plain": [
       "35"
      ]
     },
     "execution_count": 1,
     "metadata": {},
     "output_type": "execute_result"
    }
   ],
   "source": [
    "import keyword\n",
    "x=(keyword.kwlist)\n",
    "print(x)\n",
    "len(x)"
   ]
  },
  {
   "cell_type": "code",
   "execution_count": 104,
   "id": "07730c3e-2128-4cf8-81dc-e9ba21551349",
   "metadata": {},
   "outputs": [
    {
     "name": "stdout",
     "output_type": "stream",
     "text": [
      "50\n"
     ]
    },
    {
     "data": {
      "text/plain": [
       "float"
      ]
     },
     "execution_count": 104,
     "metadata": {},
     "output_type": "execute_result"
    }
   ],
   "source": [
    "x=50.75\n",
    "print(int(x))\n",
    "type(x)"
   ]
  },
  {
   "cell_type": "code",
   "execution_count": 108,
   "id": "68da7cf0-4804-4462-baa5-fe056f2352dc",
   "metadata": {},
   "outputs": [
    {
     "name": "stdout",
     "output_type": "stream",
     "text": [
      "99.99\n"
     ]
    },
    {
     "data": {
      "text/plain": [
       "float"
      ]
     },
     "execution_count": 108,
     "metadata": {},
     "output_type": "execute_result"
    }
   ],
   "source": [
    "x=90\n",
    "y=9.99\n",
    "sum=x+y\n",
    "print(sum)\n",
    "type(sum)"
   ]
  },
  {
   "cell_type": "code",
   "execution_count": 116,
   "id": "46529561-dcb1-40b6-a0cf-97547ed62514",
   "metadata": {},
   "outputs": [
    {
     "name": "stdout",
     "output_type": "stream",
     "text": [
      "77.0\n"
     ]
    },
    {
     "data": {
      "text/plain": [
       "float"
      ]
     },
     "execution_count": 116,
     "metadata": {},
     "output_type": "execute_result"
    }
   ],
   "source": [
    "product=0\n",
    "x=10\n",
    "y=7.7\n",
    "product=x*y\n",
    "print(product)\n",
    "type(product)"
   ]
  },
  {
   "cell_type": "code",
   "execution_count": 121,
   "id": "e08041cf-f18a-4f1e-b546-c52d52737774",
   "metadata": {},
   "outputs": [
    {
     "data": {
      "text/plain": [
       "-5"
      ]
     },
     "execution_count": 121,
     "metadata": {},
     "output_type": "execute_result"
    }
   ],
   "source": [
    "-9//2"
   ]
  },
  {
   "cell_type": "code",
   "execution_count": 126,
   "id": "2d725321-0243-4490-972e-e22a7a4e1200",
   "metadata": {},
   "outputs": [
    {
     "data": {
      "text/plain": [
       "64"
      ]
     },
     "execution_count": 126,
     "metadata": {},
     "output_type": "execute_result"
    }
   ],
   "source": [
    "(12+23*120//12+(-89*2))\n"
   ]
  },
  {
   "cell_type": "code",
   "execution_count": 10,
   "id": "c82ff6c5-d0b4-4295-b047-8a20fe421f6d",
   "metadata": {},
   "outputs": [
    {
     "name": "stdout",
     "output_type": "stream",
     "text": [
      "True\n",
      "True\n",
      "True\n",
      "True\n"
     ]
    }
   ],
   "source": [
    "print(not 40>30 or not 80<50)\n",
    "print(not 40<30 and  80>50)\n",
    "print( 10>20 or  10<50)\n",
    "print(not 0>20  and 10<50)"
   ]
  },
  {
   "cell_type": "code",
   "execution_count": 30,
   "id": "8b357581-46fa-4f6c-bbca-8fa8b4db764e",
   "metadata": {},
   "outputs": [
    {
     "name": "stdout",
     "output_type": "stream",
     "text": [
      "False\n",
      "True\n"
     ]
    },
    {
     "data": {
      "text/plain": [
       "True"
      ]
     },
     "execution_count": 30,
     "metadata": {},
     "output_type": "execute_result"
    }
   ],
   "source": [
    "a=\"Jai Shree ram\"\n",
    "print('y' in a)\n",
    "print('h' in a)\n",
    "'m' in a"
   ]
  },
  {
   "cell_type": "code",
   "execution_count": 22,
   "id": "a286a70a-14ed-4c46-8f85-bbc68a05fdb6",
   "metadata": {},
   "outputs": [
    {
     "name": "stdout",
     "output_type": "stream",
     "text": [
      "<class 'str'>\n",
      "56.7\n",
      "5+6+7+8\n",
      "26\n"
     ]
    },
    {
     "data": {
      "text/plain": [
       "int"
      ]
     },
     "execution_count": 22,
     "metadata": {},
     "output_type": "execute_result"
    }
   ],
   "source": [
    "a='56.7'\n",
    "print(type(a))\n",
    "print(eval(a))\n",
    "print(\"5+6+7+8\")\n",
    "print(eval(\"5+6+7+8\")) #evaluate the string\n",
    "type(eval(\"5+6+7+8\"))"
   ]
  },
  {
   "cell_type": "code",
   "execution_count": 34,
   "id": "372355d3-0076-4c8a-9d48-b43a2dd42cf1",
   "metadata": {},
   "outputs": [
    {
     "name": "stdin",
     "output_type": "stream",
     "text": [
      "How has your day been so far?:  ?\n"
     ]
    },
    {
     "data": {
      "text/plain": [
       "'?'"
      ]
     },
     "execution_count": 34,
     "metadata": {},
     "output_type": "execute_result"
    }
   ],
   "source": [
    "input(\"How has your day been so far?: \")"
   ]
  },
  {
   "cell_type": "code",
   "execution_count": 38,
   "id": "f648c7f4-2891-408a-ac80-6cc9cd5f87e3",
   "metadata": {},
   "outputs": [
    {
     "data": {
      "text/plain": [
       "True"
      ]
     },
     "execution_count": 38,
     "metadata": {},
     "output_type": "execute_result"
    }
   ],
   "source": [
    "p=100\n",
    "q=100\n",
    "p is q"
   ]
  },
  {
   "cell_type": "code",
   "execution_count": 2,
   "id": "fe60b396-cd17-461a-8426-45165b81b3e6",
   "metadata": {},
   "outputs": [
    {
     "name": "stdin",
     "output_type": "stream",
     "text": [
      "length: 67\n",
      "breadth: 89\n"
     ]
    },
    {
     "data": {
      "text/plain": [
       "5963"
      ]
     },
     "execution_count": 2,
     "metadata": {},
     "output_type": "execute_result"
    }
   ],
   "source": [
    "def area(length,breadth):\n",
    "    area=length*breadth\n",
    "    return area\n",
    "x=int(input(\"length:\"))\n",
    "y=int(input(\"breadth:\"))\n",
    "area(x,y)"
   ]
  },
  {
   "cell_type": "code",
   "execution_count": 54,
   "id": "783e5d92-cf2e-469b-95f7-6885997e9ac3",
   "metadata": {},
   "outputs": [
    {
     "name": "stdout",
     "output_type": "stream",
     "text": [
      "1\n"
     ]
    }
   ],
   "source": [
    "if (4>0):\n",
    "   print(1)\n",
    "else:\n",
    "   print(0)"
   ]
  },
  {
   "cell_type": "code",
   "execution_count": 11,
   "id": "c6e90fbb-efe6-476e-84b1-b1f8ba0ecdf5",
   "metadata": {},
   "outputs": [
    {
     "name": "stdout",
     "output_type": "stream",
     "text": [
      "False\n"
     ]
    },
    {
     "data": {
      "text/plain": [
       "bool"
      ]
     },
     "execution_count": 11,
     "metadata": {},
     "output_type": "execute_result"
    }
   ],
   "source": [
    "print('a' == 'A')\n",
    "type('a' == 'A')"
   ]
  },
  {
   "cell_type": "code",
   "execution_count": 6,
   "id": "d75112d7-2f2d-4580-bf7f-4f2cc468cbd8",
   "metadata": {},
   "outputs": [
    {
     "name": "stdout",
     "output_type": "stream",
     "text": [
      "0\n"
     ]
    }
   ],
   "source": [
    "p=\"text\"\n",
    "print(p.count(\" \"))"
   ]
  },
  {
   "cell_type": "code",
   "execution_count": 8,
   "id": "6381e335-db77-4c37-ba34-faa8a5c7cbf1",
   "metadata": {},
   "outputs": [
    {
     "name": "stdout",
     "output_type": "stream",
     "text": [
      "the sum of  10 and  20 is : 30\n"
     ]
    }
   ],
   "source": [
    "x=10 \n",
    "y=20\n",
    "print(\"the sum of \",x,\"and \",y,\"is :\",x+y)"
   ]
  },
  {
   "cell_type": "code",
   "execution_count": 45,
   "id": "66036752-346d-45fe-8668-2ca09aef8fa1",
   "metadata": {},
   "outputs": [
    {
     "name": "stdout",
     "output_type": "stream",
     "text": [
      "60 480\n"
     ]
    }
   ],
   "source": [
    "p=10\n",
    "q=20\n",
    "p*=q//3\n",
    "q+=p+q**2\n",
    "print(p,q)"
   ]
  },
  {
   "cell_type": "code",
   "execution_count": 32,
   "id": "d2c21003-438b-4b6c-8387-df9a0b766603",
   "metadata": {},
   "outputs": [
    {
     "name": "stdin",
     "output_type": "stream",
     "text": [
      "Enter the Age: 19\n"
     ]
    },
    {
     "name": "stdout",
     "output_type": "stream",
     "text": [
      "Can VOTE\n"
     ]
    },
    {
     "name": "stdin",
     "output_type": "stream",
     "text": [
      "Enter the Gender(M/F): F\n"
     ]
    },
    {
     "name": "stdout",
     "output_type": "stream",
     "text": [
      "You are a girl\n"
     ]
    }
   ],
   "source": [
    "age=int(input('Enter the Age:'))\n",
    "if age>=18:\n",
    "    print(\"Can VOTE\")\n",
    "    gen=input('Enter the Gender(M/F):')\n",
    "    if (gen=='M' or gen=='m'):\n",
    "        print(\"You are a boy\")\n",
    "    elif (gen=='F' or gen=='f'):\n",
    "        print(\"You are a girl\")\n",
    "    else:\n",
    "        print(\"Ask to your parents\")\n",
    "else:\n",
    "    print(\"Can not VOTE\")"
   ]
  },
  {
   "cell_type": "code",
   "execution_count": 10,
   "id": "c30c9c4f-cd40-479b-a820-d783e02fbde3",
   "metadata": {},
   "outputs": [
    {
     "name": "stdout",
     "output_type": "stream",
     "text": [
      "First meet with Ananya\n"
     ]
    }
   ],
   "source": [
    "print(\"First meet with\",end=\" \")\n",
    "print(\"Python\")"
   ]
  },
  {
   "cell_type": "code",
   "execution_count": 58,
   "id": "38859bad-ac6d-4cf7-a32b-0282be36d3b5",
   "metadata": {},
   "outputs": [
    {
     "data": {
      "text/plain": [
       "(20, 10)"
      ]
     },
     "execution_count": 58,
     "metadata": {},
     "output_type": "execute_result"
    }
   ],
   "source": [
    "def red(x,y):\n",
    "    x=x+y\n",
    "    y=x-y\n",
    "    x=x-y\n",
    "    return(x,y)\n",
    "red(10,20)"
   ]
  },
  {
   "cell_type": "code",
   "execution_count": 54,
   "id": "d32f8a86-1751-45ab-9c81-6a238227944e",
   "metadata": {},
   "outputs": [
    {
     "data": {
      "text/plain": [
       "25"
      ]
     },
     "execution_count": 54,
     "metadata": {},
     "output_type": "execute_result"
    }
   ],
   "source": [
    "def blue(x,y):\n",
    "    z=x**y\n",
    "    return(z)\n",
    "blue(5,2)"
   ]
  },
  {
   "cell_type": "code",
   "execution_count": 3,
   "id": "8f9eb017-0c90-48e6-852c-53ac42727dd2",
   "metadata": {},
   "outputs": [
    {
     "name": "stdin",
     "output_type": "stream",
     "text": [
      "enter number 67\n",
      "Enter divisibility 5\n"
     ]
    },
    {
     "name": "stdout",
     "output_type": "stream",
     "text": [
      "no\n"
     ]
    }
   ],
   "source": [
    "n=int(input(\"enter number\"))\n",
    "k=int(input(\"Enter divisibility\"))\n",
    "if(n%k==0):\n",
    "    print(\"Yes\")\n",
    "else:\n",
    "    print(\"No\")"
   ]
  },
  {
   "cell_type": "code",
   "execution_count": 5,
   "id": "585ba68a-1b9a-4946-baca-e1d1f8badd68",
   "metadata": {},
   "outputs": [
    {
     "name": "stdin",
     "output_type": "stream",
     "text": [
      "enter number 66\n",
      "Enter last digit 6\n"
     ]
    },
    {
     "name": "stdout",
     "output_type": "stream",
     "text": [
      "last digit is 6\n"
     ]
    }
   ],
   "source": [
    "n=int(input(\"enter number\"))\n",
    "k=int(input(\"Enter last digit\"))\n",
    "if(n%10==k):\n",
    "    print(\"last digit is\",k)\n",
    "else:\n",
    "    print(\"last digit is not\",k)"
   ]
  },
  {
   "cell_type": "code",
   "execution_count": null,
   "id": "ceb7cb9d-4052-443a-94d9-43816c9cd4bd",
   "metadata": {},
   "outputs": [],
   "source": []
  },
  {
   "cell_type": "code",
   "execution_count": null,
   "id": "00af11c9-94d7-416b-9a3b-6182abf61319",
   "metadata": {},
   "outputs": [],
   "source": []
  },
  {
   "cell_type": "code",
   "execution_count": 3,
   "id": "33c5d9e0-79d2-46ab-87a5-c51e75bd3940",
   "metadata": {},
   "outputs": [
    {
     "name": "stdin",
     "output_type": "stream",
     "text": [
      "Enter Password:  DDsf75@gj\n"
     ]
    },
    {
     "name": "stdout",
     "output_type": "stream",
     "text": [
      "Strong password\n"
     ]
    }
   ],
   "source": [
    "str1 = input(\"Enter Password: \")\n",
    "pswd=str1\n",
    "points=0\n",
    "X=len(str1)\n",
    "if X>=8:\n",
    "    a=1\n",
    "    countup = 0\n",
    "    countlw = 0\n",
    "    countnum = 0\n",
    "    countsp = 0\n",
    "    for str1 in str1:\n",
    "        if ' ' in str1:\n",
    "            a=0\n",
    "            break\n",
    "        elif str1.isupper():\n",
    "            countup += 1\n",
    "        elif str1.islower():\n",
    "            countlw += 1\n",
    "        elif str1.isdigit():\n",
    "            countnum += 1\n",
    "        elif not str1.isalnum():\n",
    "            countsp += 1\n",
    "    if a != 0:\n",
    "        if countup>=2:\n",
    "            points+=1\n",
    "        if countlw>=2:\n",
    "            points+=1\n",
    "        if countnum >=1:\n",
    "            points+=1\n",
    "        if countsp >=1:\n",
    "            points+=2\n",
    "        if X>=10:\n",
    "            points+=1\n",
    "        if points>=5:\n",
    "            print(\"Strong password\")\n",
    "        elif points==4:\n",
    "            print(\"Good password\")\n",
    "        elif points==3:\n",
    "            print(\"Normal password\")\n",
    "        elif points==2: \n",
    "            print(\"A little Weak password\")\n",
    "        else:\n",
    "            print(\"Your password is too week ! try again ( use Upper , lower , number and @,! special symbols\")            \n",
    "    else:\n",
    "        print(\"Invalid symbols are used\")\n",
    "else:\n",
    "    print(\"Your password has not sufficient size\")"
   ]
  },
  {
   "cell_type": "code",
   "execution_count": null,
   "id": "2208c4d3-2730-49fd-8481-3035ecb23d08",
   "metadata": {},
   "outputs": [],
   "source": [
    "str2 = input(\"Confirm Password: \")\n",
    "if str2==pswd:\n",
    "    print(\"Saved . . . \")\n",
    "else:\n",
    "    print(\"Password is not matched\")"
   ]
  },
  {
   "cell_type": "code",
   "execution_count": 10,
   "id": "8777da6e-4270-423c-a1c7-ac5583fbab3c",
   "metadata": {},
   "outputs": [
    {
     "name": "stdout",
     "output_type": "stream",
     "text": [
      "T\n"
     ]
    }
   ],
   "source": [
    "f=10+0j\n",
    "if f==10:\n",
    "    print('T')\n",
    "else:\n",
    "    print('F')"
   ]
  },
  {
   "cell_type": "code",
   "execution_count": null,
   "id": "159edf17-8617-4f80-9566-be93015e9746",
   "metadata": {},
   "outputs": [],
   "source": [
    "#PROG 12: check Eligibilty of age and gender\n",
    "age=int(input('Enter the Age:'))\n",
    "if age>=18:\n",
    "    print(\"Can VOTE\")\n",
    "    gen=input('Enter the Gender(M/F):')\n",
    "    if (gen=='M' or gen=='m'):\n",
    "        print(\"You are a boy\")\n",
    "    elif (gen=='F' or gen=='f'):\n",
    "        print(\"You are a girl\")\n",
    "    else:\n",
    "        print(\"Ask to your parents\")\n",
    "else:\n",
    "    print(\"Can not VOTE\")"
   ]
  },
  {
   "cell_type": "code",
   "execution_count": null,
   "id": "c89d31c8-36d0-4968-9d21-7d3929560927",
   "metadata": {},
   "outputs": [],
   "source": [
    "# PROG 13: Greatest number among series of numbers\n",
    "a=int(input(\"Enter the Enteries\"))\n",
    "k=0\n",
    "for i in range(a):\n",
    "    num=int(input(\"Enter the No. \"))\n",
    "    if(num>k):\n",
    "        k=num\n",
    "print(k)"
   ]
  },
  {
   "cell_type": "code",
   "execution_count": null,
   "id": "2a190afc-70b4-49c5-bec7-83fbb8d9a5d9",
   "metadata": {},
   "outputs": [],
   "source": [
    "# PROG 13: Check the type of Triangle\n",
    "a=int(input(\"Enter the angles 1\"))\n",
    "b=int(input(\"Enter the angles 2\"))\n",
    "c=int(input(\"Enter the angles 3\"))\n",
    "if (a+b+c == 180):\n",
    "    if(a==90 or b==90 or c==90):\n",
    "        print(\"Right Angled Triangle\")\n",
    "    elif(a>90 or b>90 or c>90):\n",
    "        print(\"Obtuse angled Triangle\")\n",
    "    else:\n",
    "        print(\"Acute angled Triangle\")\n",
    "else:\n",
    "    print(\"It is not a triangle\")"
   ]
  },
  {
   "cell_type": "code",
   "execution_count": null,
   "id": "f2c4d4ff-7eaa-45f2-bbc5-21dfb13166c8",
   "metadata": {},
   "outputs": [],
   "source": [
    "#PROG 18:\n",
    "i=1\n",
    "n=int(input(\"Enter stop :\"))\n",
    "while i<n+1:\n",
    "    print(i ,end=\" \")\n",
    "    i=i+1"
   ]
  },
  {
   "cell_type": "code",
   "execution_count": null,
   "id": "f8fba2ec-7878-4721-afe8-1b990ad7019e",
   "metadata": {},
   "outputs": [],
   "source": [
    "#PROG 13: \n",
    "i=1\n",
    "while i<11:\n",
    "    print(i ,end=\" \")\n",
    "    i=i+1"
   ]
  },
  {
   "cell_type": "code",
   "execution_count": null,
   "id": "229a02c5-5dbe-4101-b581-5e9f1a002496",
   "metadata": {},
   "outputs": [],
   "source": [
    "#PROG 19:\n",
    "i=1\n",
    "n=int(input(\"Enter stop :\"))\n",
    "while i<n+1:\n",
    "    print(i*4 ,end=\" \")\n",
    "    i=i+1"
   ]
  },
  {
   "cell_type": "code",
   "execution_count": 1,
   "id": "97b11a71-c171-4559-90a2-98561e262d6a",
   "metadata": {},
   "outputs": [
    {
     "name": "stdin",
     "output_type": "stream",
     "text": [
      "Enter the Number 70\n"
     ]
    },
    {
     "name": "stdout",
     "output_type": "stream",
     "text": [
      "factors:  [70, 35, 14, 10, 7, 5, 2, 1]\n"
     ]
    }
   ],
   "source": [
    "# PROG 18: Find the factors of a number\n",
    "a=int(input(\"Enter the Number\"))\n",
    "n=a\n",
    "list1=[]\n",
    "while(n>0):\n",
    "    if (a%n==0):\n",
    "        list1.append(n)\n",
    "    n=n-1\n",
    "print(\"factors: \",list1)"
   ]
  },
  {
   "cell_type": "code",
   "execution_count": 4,
   "id": "36fc9049-5572-4b1c-b61d-5f7ed4d7be9f",
   "metadata": {},
   "outputs": [
    {
     "name": "stdin",
     "output_type": "stream",
     "text": [
      "Enter the Number 5\n"
     ]
    },
    {
     "name": "stdout",
     "output_type": "stream",
     "text": [
      "120\n"
     ]
    }
   ],
   "source": [
    "# PROG 15: Find the factorial of a number\n",
    "a=int(input(\"Enter the Number\"))\n",
    "fact=1\n",
    "while(a>0):\n",
    "    fact=fact*a\n",
    "    a=a-1\n",
    "print(fact)\n"
   ]
  },
  {
   "cell_type": "code",
   "execution_count": null,
   "id": "31a17245-f808-4a14-ad3d-5f38a77605b4",
   "metadata": {},
   "outputs": [],
   "source": [
    "# PROG 6 Find the palindrome\n",
    "\n",
    "A=int(input(\"Enter the Number:\"))\n",
    "org=A\n",
    "palin=0\n",
    "while A>0:\n",
    "    r=A%10\n",
    "    A=A//10\n",
    "    palin=palin*10+r\n",
    "if org==palin:\n",
    "    print(\"Yes\")\n",
    "else:\n",
    "    print(\"No\") "
   ]
  },
  {
   "cell_type": "code",
   "execution_count": null,
   "id": "c38c8323-d92a-495e-82fa-fb674f3a311f",
   "metadata": {},
   "outputs": [],
   "source": [
    "# prog: hcf of 2 no.\n",
    "a=24\n",
    "b=12\n",
    "if a%b==0 or b%a==0:\n",
    "    "
   ]
  },
  {
   "cell_type": "code",
   "execution_count": 9,
   "id": "85c8337e-dcfd-4c09-91c7-e19575a87d4c",
   "metadata": {},
   "outputs": [
    {
     "name": "stdout",
     "output_type": "stream",
     "text": [
      "true\n"
     ]
    }
   ],
   "source": [
    "average_grade = 49\n",
    "recommended_by_tutor ='true' \n",
    "finished_introductory_course = 'false'\n",
    "introductory_course_grade = 0\n",
    "enroll_student = ((average_grade >= 40 and recommended_by_tutor) or (finished_introductory_course and introductory_course_grade > 85))\n",
    "print(enroll_student)"
   ]
  },
  {
   "cell_type": "code",
   "execution_count": 16,
   "id": "80df1e67-f9a4-448c-8bf1-4f1a62114679",
   "metadata": {},
   "outputs": [
    {
     "name": "stdin",
     "output_type": "stream",
     "text": [
      " 55\n"
     ]
    },
    {
     "name": "stdout",
     "output_type": "stream",
     "text": [
      "false\n"
     ]
    }
   ],
   "source": [
    "a = int(input().strip())\n",
    "if(a<10 or a>250):\n",
    "    print('true')\n",
    "else:\n",
    "    print('false')"
   ]
  },
  {
   "cell_type": "code",
   "execution_count": 5,
   "id": "403a4c4a-deed-4c9f-aea5-c0c4c88cc468",
   "metadata": {},
   "outputs": [
    {
     "name": "stdin",
     "output_type": "stream",
     "text": [
      "Enter the length of list 5\n",
      "Enter the element at index : 1\n",
      "Enter the element at index : 2\n",
      "Enter the element at index : 3\n",
      "Enter the element at index : 4\n",
      "Enter the element at index : 5\n"
     ]
    },
    {
     "name": "stdout",
     "output_type": "stream",
     "text": [
      "['1', '2', '3', '4', '5']\n"
     ]
    }
   ],
   "source": [
    "n=int(input(\"Enter the length of list\"))\n",
    "list1=[]\n",
    "for i in range(n):\n",
    "    x=input(\"Enter the element :\")\n",
    "    list1.append(x)\n",
    "print(list1)\n",
    "\n"
   ]
  },
  {
   "cell_type": "code",
   "execution_count": 10,
   "id": "43d8032d-618b-419f-9991-e4da47f1861a",
   "metadata": {},
   "outputs": [],
   "source": [
    "#LIFO --> Last in first out\n",
    "stack=[]\n",
    "def push():\n",
    "    ch=1\n",
    "    while ch>0:\n",
    "        x=input(\"Enter the push element:\")\n",
    "        stack.append(x)\n",
    "        y=input(\"Do you want to add more element? (Y-->Yes) :\")\n",
    "        if y=='y' or y=='Y':\n",
    "            continue\n",
    "        else:\n",
    "            ch=0\n",
    "    print(stack)\n",
    "def pop():\n",
    "    ch=1\n",
    "    print (stack)\n",
    "    while ch>0:\n",
    "        if stack==[]:\n",
    "            print(\"Stack is empty\")\n",
    "            break\n",
    "        else:\n",
    "            z=stack.pop()\n",
    "            print(z,\"is removed\")\n",
    "            y2=input(\"Do you want to Pop again? (Y-->Yes) :\")\n",
    "            if y2 =='y' or y2 == 'Y' :\n",
    "                continue\n",
    "            else:\n",
    "                ch=0\n",
    "    print(stack)\n",
    "def update():\n",
    "    x=input(\"Enter the elemet of updation:\")\n",
    "    for i in range(0, len(stack)):\n",
    "        if stack[i]==x:\n",
    "            x=input(\"Enter the updated element:\")\n",
    "            stack[i]=x\n",
    "        else:\n",
    "            print(\"Element not found!\")\n",
    "    print(stack)"
   ]
  },
  {
   "cell_type": "markdown",
   "id": "9e45f7eb-0a51-4fc2-98e4-606170a8b045",
   "metadata": {},
   "source": []
  }
 ],
 "metadata": {
  "kernelspec": {
   "display_name": "Python 3 (ipykernel)",
   "language": "python",
   "name": "python3"
  },
  "language_info": {
   "codemirror_mode": {
    "name": "ipython",
    "version": 3
   },
   "file_extension": ".py",
   "mimetype": "text/x-python",
   "name": "python",
   "nbconvert_exporter": "python",
   "pygments_lexer": "ipython3",
   "version": "3.11.4"
  }
 },
 "nbformat": 4,
 "nbformat_minor": 5
}
